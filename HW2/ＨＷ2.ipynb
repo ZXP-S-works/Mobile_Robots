{
 "cells": [
  {
   "cell_type": "markdown",
   "metadata": {},
   "source": [
    "## Problem 5 ##"
   ]
  },
  {
   "cell_type": "code",
   "execution_count": 1,
   "metadata": {},
   "outputs": [],
   "source": [
    "import numpy as np\n",
    "\n",
    "# Define one-liner R(t) function\n",
    "R = lambda t: np.matrix([[np.cos(t), -np.sin(t), 0],\n",
    "                         [np.sin(t),  np.cos(t), 0],\n",
    "                         [0,          0,         1]])\n",
    "\n",
    "# Define print func\n",
    "def rotation_property(t):\n",
    "    print('R(t) for t = ', t)\n",
    "    r = R(t)\n",
    "    print('r.T: \\n', r.T)\n",
    "    print('r.I: \\n', r.I)\n",
    "    print('r inverse: \\n', np.linalg.inv(r))\n",
    "    print('r determinat: \\n', np.linalg.det(r))\n",
    "    n = r[:,0]\n",
    "    s = r[:,1]\n",
    "    a = r[:,2]\n",
    "    print('norm of n: \\n', np.linalg.norm(n))\n",
    "    print('norm of s: \\n', np.linalg.norm(s))\n",
    "    print('norm of a: \\n', np.linalg.norm(a))\n",
    "    print('n * s: \\n', np.dot(n.T,s))\n",
    "    print('s * a: \\n', np.dot(s.T,a))\n",
    "    print('s * n: \\n', np.dot(s.T,n))"
   ]
  },
  {
   "cell_type": "code",
   "execution_count": 2,
   "metadata": {},
   "outputs": [
    {
     "name": "stdout",
     "output_type": "stream",
     "text": [
      "R(t) for t =  0.5235987755982988\n",
      "r.T: \n",
      " [[ 0.8660254  0.5        0.       ]\n",
      " [-0.5        0.8660254  0.       ]\n",
      " [ 0.         0.         1.       ]]\n",
      "r.I: \n",
      " [[ 0.8660254  0.5        0.       ]\n",
      " [-0.5        0.8660254  0.       ]\n",
      " [ 0.         0.         1.       ]]\n",
      "r inverse: \n",
      " [[ 0.8660254  0.5        0.       ]\n",
      " [-0.5        0.8660254  0.       ]\n",
      " [ 0.         0.         1.       ]]\n",
      "r determinat: \n",
      " 1.0\n",
      "norm of n: \n",
      " 1.0\n",
      "norm of s: \n",
      " 1.0\n",
      "norm of a: \n",
      " 1.0\n",
      "n * s: \n",
      " [[0.]]\n",
      "s * a: \n",
      " [[0.]]\n",
      "s * n: \n",
      " [[0.]]\n"
     ]
    }
   ],
   "source": [
    "rotation_property(np.pi/6)"
   ]
  },
  {
   "cell_type": "code",
   "execution_count": 3,
   "metadata": {},
   "outputs": [
    {
     "name": "stdout",
     "output_type": "stream",
     "text": [
      "R(t) for t =  3.141592653589793\n",
      "r.T: \n",
      " [[-1.0000000e+00  1.2246468e-16  0.0000000e+00]\n",
      " [-1.2246468e-16 -1.0000000e+00  0.0000000e+00]\n",
      " [ 0.0000000e+00  0.0000000e+00  1.0000000e+00]]\n",
      "r.I: \n",
      " [[-1.0000000e+00  1.2246468e-16 -0.0000000e+00]\n",
      " [-1.2246468e-16 -1.0000000e+00 -0.0000000e+00]\n",
      " [ 0.0000000e+00  0.0000000e+00  1.0000000e+00]]\n",
      "r inverse: \n",
      " [[-1.0000000e+00  1.2246468e-16 -0.0000000e+00]\n",
      " [-1.2246468e-16 -1.0000000e+00 -0.0000000e+00]\n",
      " [ 0.0000000e+00  0.0000000e+00  1.0000000e+00]]\n",
      "r determinat: \n",
      " 1.0\n",
      "norm of n: \n",
      " 1.0\n",
      "norm of s: \n",
      " 1.0\n",
      "norm of a: \n",
      " 1.0\n",
      "n * s: \n",
      " [[0.]]\n",
      "s * a: \n",
      " [[0.]]\n",
      "s * n: \n",
      " [[0.]]\n"
     ]
    }
   ],
   "source": [
    "rotation_property(np.pi)"
   ]
  },
  {
   "cell_type": "code",
   "execution_count": 4,
   "metadata": {
    "scrolled": false
   },
   "outputs": [
    {
     "name": "stdout",
     "output_type": "stream",
     "text": [
      "R(t) for t =  0.7853981633974483\n",
      "r.T: \n",
      " [[ 0.70710678  0.70710678  0.        ]\n",
      " [-0.70710678  0.70710678  0.        ]\n",
      " [ 0.          0.          1.        ]]\n",
      "r.I: \n",
      " [[ 0.70710678  0.70710678  0.        ]\n",
      " [-0.70710678  0.70710678  0.        ]\n",
      " [ 0.          0.          1.        ]]\n",
      "r inverse: \n",
      " [[ 0.70710678  0.70710678  0.        ]\n",
      " [-0.70710678  0.70710678  0.        ]\n",
      " [ 0.          0.          1.        ]]\n",
      "r determinat: \n",
      " 1.0\n",
      "norm of n: \n",
      " 1.0\n",
      "norm of s: \n",
      " 1.0\n",
      "norm of a: \n",
      " 1.0\n",
      "n * s: \n",
      " [[0.]]\n",
      "s * a: \n",
      " [[0.]]\n",
      "s * n: \n",
      " [[0.]]\n"
     ]
    }
   ],
   "source": [
    "rotation_property(np.pi/4)"
   ]
  },
  {
   "cell_type": "markdown",
   "metadata": {},
   "source": [
    "## Problem 6 ##"
   ]
  },
  {
   "cell_type": "code",
   "execution_count": 5,
   "metadata": {},
   "outputs": [],
   "source": [
    "skew = lambda v : np.matrix([[0,   -v[2], v[1]],\n",
    "                             [v[2], 0,   -v[0]],\n",
    "                             [-v[1], v[0],   0]])\n",
    "\n",
    "def verify_skew(v1, v2):\n",
    "    print('v1 x v2 = ', np.cross(v1, v2))\n",
    "    print('S(v1)v2 = ', skew(v1).dot(v2))\n",
    "    print('v1 x v2 - S(v1)v2 = ', np.cross(v1, v2) - skew(v1).dot(v2))"
   ]
  },
  {
   "cell_type": "code",
   "execution_count": 6,
   "metadata": {
    "scrolled": true
   },
   "outputs": [
    {
     "name": "stdout",
     "output_type": "stream",
     "text": [
      "v1 x v2 =  [0 0 1]\n",
      "S(v1)v2 =  [[0 0 1]]\n",
      "v1 x v2 - S(v1)v2 =  [[0 0 0]]\n"
     ]
    }
   ],
   "source": [
    "verify_skew(np.array([1, 0, 0]), np.array([0, 1, 0]))"
   ]
  },
  {
   "cell_type": "code",
   "execution_count": 7,
   "metadata": {},
   "outputs": [
    {
     "name": "stdout",
     "output_type": "stream",
     "text": [
      "v1 x v2 =  [0 0 0]\n",
      "S(v1)v2 =  [[0 0 0]]\n",
      "v1 x v2 - S(v1)v2 =  [[0 0 0]]\n"
     ]
    }
   ],
   "source": [
    "verify_skew(np.array([1, 1, 1]), np.array([-1, -1, -1]))"
   ]
  },
  {
   "cell_type": "code",
   "execution_count": 8,
   "metadata": {},
   "outputs": [
    {
     "name": "stdout",
     "output_type": "stream",
     "text": [
      "v1 x v2 =  [-4  8 -4]\n",
      "S(v1)v2 =  [[-4  8 -4]]\n",
      "v1 x v2 - S(v1)v2 =  [[0 0 0]]\n"
     ]
    }
   ],
   "source": [
    "verify_skew(np.array([1, 2, 3]), np.array([3, 2, 1]))"
   ]
  },
  {
   "cell_type": "markdown",
   "metadata": {},
   "source": [
    "## Problem 7 ##"
   ]
  },
  {
   "cell_type": "code",
   "execution_count": 9,
   "metadata": {},
   "outputs": [],
   "source": [
    "from scipy.integrate import odeint\n",
    "import matplotlib.pyplot as plt\n",
    "\n",
    "def derfunc(y, t):\n",
    "    g = 32 # ft/s^2\n",
    "    L = 2  # ft\n",
    "    ydot = [0, 0]\n",
    "    ydot[0] = y[1]\n",
    "    ydot[1] = -(g / L) * np.sin(y[0])\n",
    "    return ydot"
   ]
  },
  {
   "cell_type": "code",
   "execution_count": 10,
   "metadata": {},
   "outputs": [],
   "source": [
    "y0 = [0, 10]\n",
    "t = np.linspace(0, 1, 101)\n",
    "sol = odeint(derfunc, y0, t)"
   ]
  },
  {
   "cell_type": "code",
   "execution_count": 11,
   "metadata": {
    "scrolled": true
   },
   "outputs": [
    {
     "data": {
      "image/png": "[encoded data removed]",
      "text/plain": [
       "<Figure size 432x288 with 1 Axes>"
      ]
     },
     "metadata": {
      "needs_background": "light"
     },
     "output_type": "display_data"
    }
   ],
   "source": [
    "plt.plot(t, sol[:, 0], label = 'pendulum angle')\n",
    "plt.xlabel('t')\n",
    "plt.ylabel('rad')\n",
    "plt.title('Pendulum angle VS time')\n",
    "plt.show()"
   ]
  },
  {
   "cell_type": "code",
   "execution_count": 12,
   "metadata": {
    "scrolled": true
   },
   "outputs": [
    {
     "data": {
      "image/png": "[encoded data removed]",
      "text/plain": [
       "<Figure size 432x288 with 1 Axes>"
      ]
     },
     "metadata": {
      "needs_background": "light"
     },
     "output_type": "display_data"
    }
   ],
   "source": [
    "plt.plot(t, sol[:, 1], label = 'pendulum angular velocity')\n",
    "plt.xlabel('t')\n",
    "plt.ylabel('rad/s')\n",
    "plt.title('Pendulum angular velocity VS time')\n",
    "plt.show()"
   ]
  }
 ],
 "metadata": {
  "kernelspec": {
   "display_name": "Python 3",
   "language": "python",
   "name": "python3"
  },
  "language_info": {
   "codemirror_mode": {
    "name": "ipython",
    "version": 3
   },
   "file_extension": ".py",
   "mimetype": "text/x-python",
   "name": "python",
   "nbconvert_exporter": "python",
   "pygments_lexer": "ipython3",
   "version": "3.6.3"
  }
 },
 "nbformat": 4,
 "nbformat_minor": 2
}
